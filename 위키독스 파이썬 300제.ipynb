{
 "cells": [
  {
   "cell_type": "markdown",
   "id": "1ecb04d6",
   "metadata": {},
   "source": [
    "# 001 ~ 010"
   ]
  },
  {
   "cell_type": "markdown",
   "id": "502e0f3f",
   "metadata": {},
   "source": [
    "## 001 print 기초"
   ]
  },
  {
   "cell_type": "markdown",
   "id": "4da1247e",
   "metadata": {},
   "source": [
    "화면에 Hello World 문자열을 출력하세요."
   ]
  },
  {
   "cell_type": "code",
   "execution_count": 6,
   "id": "e720604d",
   "metadata": {},
   "outputs": [
    {
     "name": "stdout",
     "output_type": "stream",
     "text": [
      "Hello World\n"
     ]
    }
   ],
   "source": [
    "print(\"Hello World\")"
   ]
  },
  {
   "cell_type": "markdown",
   "id": "0dbffaf3",
   "metadata": {},
   "source": [
    "## 002 print 기초"
   ]
  },
  {
   "cell_type": "markdown",
   "id": "1bd4ed78",
   "metadata": {},
   "source": [
    "화면에 Mary's cosmetics을 출력하세요. (중간에 '가 있음에 주의하세요)"
   ]
  },
  {
   "cell_type": "code",
   "execution_count": 7,
   "id": "a7371e50",
   "metadata": {},
   "outputs": [
    {
     "name": "stdout",
     "output_type": "stream",
     "text": [
      "Mary's cosmetics\n"
     ]
    }
   ],
   "source": [
    "print(\"Mary's cosmetics\")"
   ]
  },
  {
   "cell_type": "markdown",
   "id": "42a18eca",
   "metadata": {},
   "source": [
    "## 003 print 기초"
   ]
  },
  {
   "cell_type": "markdown",
   "id": "eb285286",
   "metadata": {},
   "source": [
    "화면에 아래 문장을 출력하세요. (중간에 \"가 있음에 주의)"
   ]
  },
  {
   "cell_type": "code",
   "execution_count": 11,
   "id": "4464c43b",
   "metadata": {},
   "outputs": [
    {
     "name": "stdout",
     "output_type": "stream",
     "text": [
      "신씨가 소리질렀다. \"도둑이야\".\n"
     ]
    }
   ],
   "source": [
    "print('신씨가 소리질렀다. \"도둑이야\".')"
   ]
  },
  {
   "cell_type": "markdown",
   "id": "a67f81b6",
   "metadata": {},
   "source": [
    "## 004 print 기초"
   ]
  },
  {
   "cell_type": "markdown",
   "id": "923f5da2",
   "metadata": {},
   "source": [
    "화면에 C:/Windows를 출력하세요"
   ]
  },
  {
   "cell_type": "code",
   "execution_count": 14,
   "id": "feef58b2",
   "metadata": {},
   "outputs": [
    {
     "name": "stdout",
     "output_type": "stream",
     "text": [
      "C:\\Windows\n"
     ]
    }
   ],
   "source": [
    "print(\"C:\\Windows\")"
   ]
  },
  {
   "cell_type": "markdown",
   "id": "8d9738a1",
   "metadata": {},
   "source": [
    "## 005 print 탭과 줄바꿈"
   ]
  },
  {
   "cell_type": "markdown",
   "id": "8f06a2e1",
   "metadata": {},
   "source": [
    "다음 코드를 실행해보고 \\t와 \\n의 역할을 설명해보세요."
   ]
  },
  {
   "cell_type": "code",
   "execution_count": 15,
   "id": "e3d0d87c",
   "metadata": {},
   "outputs": [
    {
     "name": "stdout",
     "output_type": "stream",
     "text": [
      "안녕하세요.\n",
      "만나서\t\\반갑습니다.\n"
     ]
    }
   ],
   "source": [
    "print(\"안녕하세요.\\n만나서\\t\\반갑습니다.\")\n",
    "\n",
    "#\\t는 탭, \\n은 줄바꿈이다."
   ]
  },
  {
   "cell_type": "code",
   "execution_count": 19,
   "id": "72df13ae",
   "metadata": {},
   "outputs": [
    {
     "name": "stdout",
     "output_type": "stream",
     "text": [
      "나는 바보입니다 \n",
      "너는\t천재입니까?\n"
     ]
    }
   ],
   "source": [
    "print(\"나는 바보입니다 \\n너는\\t천재입니까?\")"
   ]
  },
  {
   "cell_type": "markdown",
   "id": "35870f8e",
   "metadata": {},
   "source": [
    "## 006 print 여러 데이터 출력"
   ]
  },
  {
   "cell_type": "markdown",
   "id": "d1d4267d",
   "metadata": {},
   "source": [
    "print 함수에 두 개의 단어를 입력한 예제입니다. 아래 코드의 출력 결과를 예상해봅시다."
   ]
  },
  {
   "cell_type": "code",
   "execution_count": 20,
   "id": "e6b5e7b1",
   "metadata": {},
   "outputs": [
    {
     "name": "stdout",
     "output_type": "stream",
     "text": [
      "오늘은 일요일\n"
     ]
    }
   ],
   "source": [
    "print(\"오늘은\", \"일요일\")\n",
    "\n",
    "#오늘은 일요일 나오겠지 당연히?"
   ]
  },
  {
   "cell_type": "markdown",
   "id": "8ceeb6b2",
   "metadata": {},
   "source": [
    "## 007 print 기초"
   ]
  },
  {
   "cell_type": "markdown",
   "id": "5ffb8df5",
   "metadata": {},
   "source": [
    "print() 함수를 사용하여 다음과 같이 출력하세요.\n",
    "naver;kakao;sk;samsung"
   ]
  },
  {
   "cell_type": "code",
   "execution_count": 34,
   "id": "db489cc4",
   "metadata": {},
   "outputs": [
    {
     "name": "stdout",
     "output_type": "stream",
     "text": [
      "naver;kakao;sk;samsung\n"
     ]
    }
   ],
   "source": [
    "print(\"naver;kakao;sk;samsung\")"
   ]
  },
  {
   "cell_type": "code",
   "execution_count": 35,
   "id": "14ca2d22",
   "metadata": {},
   "outputs": [
    {
     "name": "stdout",
     "output_type": "stream",
     "text": [
      "naver;kakao;sk;samsung\n"
     ]
    }
   ],
   "source": [
    "print(\"naver\", \"kakao\", \"sk\", \"samsung\", sep=\";\")"
   ]
  },
  {
   "cell_type": "markdown",
   "id": "7975bc75",
   "metadata": {},
   "source": [
    "## 008 print 기초"
   ]
  },
  {
   "cell_type": "markdown",
   "id": "bdb89bd1",
   "metadata": {},
   "source": [
    "print() 함수를 사용하여 다음과 같이 출력하세요."
   ]
  },
  {
   "cell_type": "code",
   "execution_count": 36,
   "id": "addc71a4",
   "metadata": {},
   "outputs": [
    {
     "name": "stdout",
     "output_type": "stream",
     "text": [
      "naver/kakao/sk/samsung\n"
     ]
    }
   ],
   "source": [
    "print(\"naver\",\"kakao\",\"sk\",\"samsung\", sep=\"/\")"
   ]
  },
  {
   "cell_type": "code",
   "execution_count": 37,
   "id": "cf5fc100",
   "metadata": {},
   "outputs": [
    {
     "name": "stdout",
     "output_type": "stream",
     "text": [
      "naver/kakao/sk/samsung\n"
     ]
    }
   ],
   "source": [
    "print(\"naver/kakao/sk/samsung\")"
   ]
  },
  {
   "cell_type": "markdown",
   "id": "22529249",
   "metadata": {},
   "source": [
    "## 009 print 줄바꿈"
   ]
  },
  {
   "cell_type": "markdown",
   "id": "25def406",
   "metadata": {},
   "source": [
    "다음 코드를 수정하여 줄바꿈이 없이 출력하세요. (힌트: end='') print 함수는 두 번 사용합니다. 세미콜론 (;)은 한줄에 여러 개의 명령을 작성하기 위해 사용합니다."
   ]
  },
  {
   "cell_type": "code",
   "execution_count": 50,
   "id": "ec4f2304",
   "metadata": {},
   "outputs": [
    {
     "name": "stdout",
     "output_type": "stream",
     "text": [
      "firstsecond\n"
     ]
    }
   ],
   "source": [
    "print(\"first\", end='');print(\"second\")\n",
    "\n",
    "# end=''줄바꾸지 않고 두개의 프린트를 실행할때 쓰임"
   ]
  },
  {
   "cell_type": "markdown",
   "id": "37bab51d",
   "metadata": {},
   "source": [
    "## 010 연산 결과 출력"
   ]
  },
  {
   "cell_type": "markdown",
   "id": "29bac4c5",
   "metadata": {},
   "source": [
    "5/3의 결과를 화면에 출력하세요."
   ]
  },
  {
   "cell_type": "code",
   "execution_count": 51,
   "id": "13fcf709",
   "metadata": {},
   "outputs": [
    {
     "name": "stdout",
     "output_type": "stream",
     "text": [
      "1.6666666666666667\n"
     ]
    }
   ],
   "source": [
    "print(5/3)"
   ]
  },
  {
   "cell_type": "markdown",
   "id": "cc46f678",
   "metadata": {},
   "source": [
    "## 011 변수 사용하기"
   ]
  },
  {
   "cell_type": "markdown",
   "id": "ccbedfc5",
   "metadata": {},
   "source": [
    "삼성전자라는 변수로 50,000원을 바인딩해보세요. 삼성전자 주식 10주를 보유하고 있을 때 총 평가금액을 출력하세요."
   ]
  },
  {
   "cell_type": "code",
   "execution_count": 65,
   "id": "211f03e5",
   "metadata": {},
   "outputs": [
    {
     "name": "stdout",
     "output_type": "stream",
     "text": [
      "5000000\n"
     ]
    }
   ],
   "source": [
    "삼성전자 = 500000\n",
    "총평가금액 = (삼성전자 * 10)\n",
    "print(총평가금액)"
   ]
  },
  {
   "cell_type": "markdown",
   "id": "42d76236",
   "metadata": {},
   "source": [
    "## 012 변수 사용하기"
   ]
  },
  {
   "cell_type": "markdown",
   "id": "c022d22a",
   "metadata": {},
   "source": [
    "다음 표는 삼성전자의 일부 투자정보입니다. 변수를 사용해서 시가총액, 현재가, PER 등을 바인딩해보세요."
   ]
  },
  {
   "cell_type": "code",
   "execution_count": 68,
   "id": "9247ca99",
   "metadata": {},
   "outputs": [
    {
     "name": "stdout",
     "output_type": "stream",
     "text": [
      "298000000000000 <class 'int'>\n",
      "50000 <class 'int'>\n",
      "15.79 <class 'float'>\n"
     ]
    }
   ],
   "source": [
    "시가총액 = 298000000000000\n",
    "현재가 = 50000\n",
    "PER = 15.79\n",
    "\n",
    "print(시가총액, type(시가총액))\n",
    "print(현재가, type(현재가))\n",
    "print(PER, type(PER))"
   ]
  },
  {
   "cell_type": "markdown",
   "id": "ad42fbb2",
   "metadata": {},
   "source": [
    "## 013 문자열 출력"
   ]
  },
  {
   "cell_type": "markdown",
   "id": "122bbea1",
   "metadata": {},
   "source": [
    "변수 s와 t에는 각각 문자열이 바인딩 되어있습니다.\n",
    "\n",
    ",>> s = \"hello\"\n",
    ",>> t = \"python\"\n",
    "\n",
    "두 변수를 이용하여 아래와 같이 출력해보세요.\n",
    "\n",
    "실행 예:\n",
    "hello! python"
   ]
  },
  {
   "cell_type": "code",
   "execution_count": 77,
   "id": "dcc22124",
   "metadata": {},
   "outputs": [
    {
     "name": "stdout",
     "output_type": "stream",
     "text": [
      "hello! python\n"
     ]
    }
   ],
   "source": [
    "s = \"hello\"\n",
    "t = \"python\"\n",
    "print(s+\"!\", t)\n",
    "\n",
    "#바인딩이란 변수 지정을 의미한다"
   ]
  },
  {
   "cell_type": "markdown",
   "id": "a719eaaf",
   "metadata": {},
   "source": [
    "## 014 파이썬을 이용한 값 계산"
   ]
  },
  {
   "cell_type": "markdown",
   "id": "382eef2e",
   "metadata": {},
   "source": [
    "아래 코드의 실행 결과를 예상해보세요\n",
    "2 + 2 * 3 "
   ]
  },
  {
   "cell_type": "markdown",
   "id": "a3a81d6b",
   "metadata": {},
   "source": [
    "print(2+2*3)"
   ]
  },
  {
   "cell_type": "markdown",
   "id": "2b14f655",
   "metadata": {},
   "source": [
    "## 015 type 함수"
   ]
  },
  {
   "cell_type": "markdown",
   "id": "6c09504f",
   "metadata": {},
   "source": [
    "type() 함수는 데이터 타입을 판별합니다. 변수 a에는 128 숫자가 바인딩돼 있어 type 함수가 int (정수)형임을 알려줍니다.\n",
    "\n",
    ",>> a = 128\n",
    ",>> print (type(a))\n",
    ",<class 'int'>\n",
    "\n",
    "아래 변수에 바인딩된 값의 타입을 판별해보세요.\n",
    "\n",
    ",>> a = \"132\""
   ]
  },
  {
   "cell_type": "code",
   "execution_count": 83,
   "id": "e2d12dd2",
   "metadata": {},
   "outputs": [
    {
     "name": "stdout",
     "output_type": "stream",
     "text": [
      "<class 'int'>\n"
     ]
    }
   ],
   "source": [
    "a = 132\n",
    "print(type(a))"
   ]
  },
  {
   "cell_type": "markdown",
   "id": "2bca610c",
   "metadata": {},
   "source": [
    "## 016 문자열을 정수로 변환"
   ]
  },
  {
   "cell_type": "markdown",
   "id": "a8cd7241",
   "metadata": {},
   "source": [
    "문자열 '720'를 정수형으로 변환해보세요.\n",
    "\n",
    "num_str = \"720\""
   ]
  },
  {
   "cell_type": "code",
   "execution_count": 86,
   "id": "0984b876",
   "metadata": {},
   "outputs": [
    {
     "name": "stdout",
     "output_type": "stream",
     "text": [
      "721 <class 'int'>\n"
     ]
    }
   ],
   "source": [
    "num_str = \"720\"\n",
    "num_int = int(num_str)\n",
    "print(num_int+1, type(num_int))"
   ]
  },
  {
   "cell_type": "markdown",
   "id": "f8411192",
   "metadata": {},
   "source": [
    "## 017 정수를 문자열 100으로 변환"
   ]
  },
  {
   "cell_type": "markdown",
   "id": "6d4be345",
   "metadata": {},
   "source": [
    "정수 100을 문자열 '100'으로 변환해보세요."
   ]
  },
  {
   "cell_type": "code",
   "execution_count": 28,
   "id": "48106566",
   "metadata": {
    "scrolled": true
   },
   "outputs": [
    {
     "ename": "TypeError",
     "evalue": "'str' object is not callable",
     "output_type": "error",
     "traceback": [
      "\u001b[1;31m---------------------------------------------------------------------------\u001b[0m",
      "\u001b[1;31mTypeError\u001b[0m                                 Traceback (most recent call last)",
      "Cell \u001b[1;32mIn[28], line 3\u001b[0m\n\u001b[0;32m      1\u001b[0m num \u001b[38;5;241m=\u001b[39m \u001b[38;5;241m100\u001b[39m\n\u001b[0;32m      2\u001b[0m \u001b[38;5;28mtype\u001b[39m(num)\n\u001b[1;32m----> 3\u001b[0m \u001b[38;5;28mstr\u001b[39m(num)\n",
      "\u001b[1;31mTypeError\u001b[0m: 'str' object is not callable"
     ]
    }
   ],
   "source": [
    "num = 100\n",
    "type(num)\n",
    "str(num)"
   ]
  },
  {
   "cell_type": "markdown",
   "id": "3a0ccc6b",
   "metadata": {},
   "source": [
    "## 018 문자열을 실수로 변환"
   ]
  },
  {
   "cell_type": "markdown",
   "id": "300a2cab",
   "metadata": {},
   "source": [
    "문자열 \"15.79\"를 실수(float) 타입으로 변환해보세요."
   ]
  },
  {
   "cell_type": "code",
   "execution_count": 16,
   "id": "b4359ba4",
   "metadata": {},
   "outputs": [
    {
     "name": "stdout",
     "output_type": "stream",
     "text": [
      "15.79 <class 'float'>\n"
     ]
    }
   ],
   "source": [
    "data = \"15.79\"\n",
    "data = float(data)\n",
    "print(data, type(data))"
   ]
  },
  {
   "cell_type": "markdown",
   "id": "2ef75b09",
   "metadata": {},
   "source": [
    "## 019 문자열을 정수로 변환"
   ]
  },
  {
   "cell_type": "markdown",
   "id": "87dd3b4c",
   "metadata": {},
   "source": [
    "year라는 변수가 문자열 타입의 연도를 바인딩하고 있습니다. 이를 정수로 변환한 후 최근 3년의 연도를 화면에 출력해보세요."
   ]
  },
  {
   "cell_type": "code",
   "execution_count": 44,
   "id": "76bdd452",
   "metadata": {},
   "outputs": [
    {
     "name": "stdout",
     "output_type": "stream",
     "text": [
      "2020 2021 2022 <class 'int'>\n"
     ]
    }
   ],
   "source": [
    "year = '2020'\n",
    "year = int(year)\n",
    "print(year, (year+1), (year+2), type(year))"
   ]
  },
  {
   "cell_type": "markdown",
   "id": "72521955",
   "metadata": {},
   "source": [
    "## 020 파이썬 계산"
   ]
  },
  {
   "cell_type": "markdown",
   "id": "e8c44066",
   "metadata": {},
   "source": [
    "에어컨이 월 48,584원에 무이자 36개월의 조건으로 홈쇼핑에서 판매되고 있습니다. 총 금액을 계산한 후 이를 화면에 출력해보세요. (변수사용하기)"
   ]
  },
  {
   "cell_type": "code",
   "execution_count": 3,
   "id": "0c2f33d6",
   "metadata": {},
   "outputs": [
    {
     "data": {
      "text/plain": [
       "1749024"
      ]
     },
     "execution_count": 3,
     "metadata": {},
     "output_type": "execute_result"
    }
   ],
   "source": [
    "월 = 48584\n",
    "총금액 = (월*36)\n",
    "총금액"
   ]
  }
 ],
 "metadata": {
  "kernelspec": {
   "display_name": "Python 3 (ipykernel)",
   "language": "python",
   "name": "python3"
  },
  "language_info": {
   "codemirror_mode": {
    "name": "ipython",
    "version": 3
   },
   "file_extension": ".py",
   "mimetype": "text/x-python",
   "name": "python",
   "nbconvert_exporter": "python",
   "pygments_lexer": "ipython3",
   "version": "3.11.5"
  }
 },
 "nbformat": 4,
 "nbformat_minor": 5
}
